{
 "cells": [
  {
   "cell_type": "code",
   "execution_count": 1,
   "metadata": {},
   "outputs": [],
   "source": [
    "# importing libraries\n",
    "\n",
    "from keras.layers import Input, Dense, GaussianNoise, Lambda\n",
    "from keras.models import Model  \n",
    "from keras.layers import ActivityRegularization\n",
    "from keras.layers.normalization import BatchNormalization\n",
    "from keras.optimizers import Adam,SGD\n",
    "\n",
    "from keras import backend as K\n",
    "import numpy as np \n",
    "import random as rd\n",
    "import matplotlib.pyplot as plt "
   ]
  },
  {
   "cell_type": "code",
   "execution_count": 2,
   "metadata": {},
   "outputs": [],
   "source": [
    "# Initialization - Autoencoder (n,k)\n",
    "# M: number of messages to encode\n",
    "# k = log2(M)\n",
    "# n real-value signals (otherwise. for complex-valued signals, 2*n real numbers)\n",
    "k = 4\n",
    "n = 7\n",
    "M = 2**k\n",
    "R = k/n\n",
    "\n",
    "#print('M:',M,'\\t','k:',k,'\\t','n:',n)"
   ]
  },
  {
   "cell_type": "code",
   "execution_count": 3,
   "metadata": {},
   "outputs": [],
   "source": [
    "# Channel parameters\n",
    "Eb_No_dB = 7\n",
    "noise = 1/(10**(Eb_No_dB/10))\n",
    "noise_sigma = np.sqrt(noise)\n",
    "beta = 1/(2*R*(10**(Eb_No_dB/10)))\n",
    "beta_sqrt = np.sqrt(beta)"
   ]
  },
  {
   "cell_type": "code",
   "execution_count": 4,
   "metadata": {},
   "outputs": [],
   "source": [
    "# Creating a training set and test set \n",
    "eye_matrix = np.eye(M)\n",
    "x_train = np.tile(eye_matrix, (1000, 1))  \n",
    "x_test = np.tile(eye_matrix, (100, 1)) \n",
    "rd.shuffle(x_train)\n",
    "rd.shuffle(x_test)"
   ]
  },
  {
   "cell_type": "code",
   "execution_count": 5,
   "metadata": {},
   "outputs": [
    {
     "name": "stdout",
     "output_type": "stream",
     "text": [
      "(16000, 16)\n",
      "(1600, 16)\n"
     ]
    }
   ],
   "source": [
    "# Printing the shape of x_train and x_test\n",
    "print(x_train.shape)  \n",
    "print(x_test.shape) "
   ]
  },
  {
   "cell_type": "code",
   "execution_count": 6,
   "metadata": {},
   "outputs": [],
   "source": [
    "#Bit Error Rate\n",
    "def BER(y_true, y_pred):\n",
    "    return K.mean(K.not_equal(y_true, K.round(y_pred)), axis=-1)  "
   ]
  },
  {
   "cell_type": "markdown",
   "metadata": {},
   "source": [
    "<h4>Autoencoder definition & construction</h4>"
   ]
  },
  {
   "cell_type": "code",
   "execution_count": 7,
   "metadata": {},
   "outputs": [],
   "source": [
    "# Take the input and convert it to Keras tensors\n",
    "input_signal = Input(shape=(M,))\n",
    "encoded_input = Input(shape=(n,))"
   ]
  },
  {
   "cell_type": "markdown",
   "metadata": {},
   "source": [
    "<h5>Transmitter Neural Network (encoder)</h5>"
   ]
  },
  {
   "cell_type": "code",
   "execution_count": 8,
   "metadata": {},
   "outputs": [],
   "source": [
    "######## YOUR CODE STARTS HERE #######\n",
    "# first layer, with ReLU activation\n",
    "l1_out = Dense(M, activation='relu')(input_signal)\n",
    "\n",
    "# second layer, with linear activation\n",
    "encoded = Dense(n, activation='linear')(l1_out)\n",
    "######## END OF YOUR CODE      #######\n",
    "\n",
    "#encoded = Dense(n, activation='linear')(input_signal)\n",
    "\n",
    "\n",
    "# If you want to use regularizers or perform batch normalization, uncomment the below \n",
    "#encoded = ActivityRegularization(l2=0.02)(encoded)\n",
    "#encoded = BatchNormalization()(encoded)"
   ]
  },
  {
   "cell_type": "markdown",
   "metadata": {},
   "source": [
    "<h5>Signal constraints</h5>"
   ]
  },
  {
   "cell_type": "code",
   "execution_count": 9,
   "metadata": {},
   "outputs": [],
   "source": [
    "encoded = Lambda(lambda x: np.sqrt(n) * K.l2_normalize(x, axis=1))(encoded) #fixed energy constraint\n",
    "######## YOUR CODE STARTS HERE #######\n",
    "#encoded = Lambda(lambda x: x / K.sqrt(K.mean(x**2)))(encoded) #average power constraint\n",
    "######## END OF YOUR CODE      #######"
   ]
  },
  {
   "cell_type": "markdown",
   "metadata": {},
   "source": [
    "<h5>Channel Layer</h5>"
   ]
  },
  {
   "cell_type": "code",
   "execution_count": 10,
   "metadata": {},
   "outputs": [],
   "source": [
    "encoded_noise = GaussianNoise(beta_sqrt)(encoded)"
   ]
  },
  {
   "cell_type": "markdown",
   "metadata": {},
   "source": [
    "<h5>Receiver Neural Network (decoder)</h5>"
   ]
  },
  {
   "cell_type": "code",
   "execution_count": 11,
   "metadata": {},
   "outputs": [],
   "source": [
    "######## YOUR CODE STARTS HERE #######\n",
    "# first layer, with ReLU activation\n",
    "l_out = Dense(M, activation='relu')(encoded_noise)\n",
    "\n",
    "# second layer, with softmax activation\n",
    "decoded = Dense(M, activation='softmax')(l_out)\n",
    "######## END OF YOUR CODE      #######\n",
    "\n",
    "#decoded = Dense(M, activation='softmax')(encoded_noise)"
   ]
  },
  {
   "cell_type": "markdown",
   "metadata": {},
   "source": [
    "<h5>Computation</h5>"
   ]
  },
  {
   "cell_type": "code",
   "execution_count": 12,
   "metadata": {},
   "outputs": [
    {
     "name": "stdout",
     "output_type": "stream",
     "text": [
      "Model: \"model\"\n",
      "_________________________________________________________________\n",
      "Layer (type)                 Output Shape              Param #   \n",
      "=================================================================\n",
      "input_1 (InputLayer)         [(None, 16)]              0         \n",
      "_________________________________________________________________\n",
      "dense (Dense)                (None, 16)                272       \n",
      "_________________________________________________________________\n",
      "dense_1 (Dense)              (None, 7)                 119       \n",
      "_________________________________________________________________\n",
      "lambda (Lambda)              (None, 7)                 0         \n",
      "_________________________________________________________________\n",
      "gaussian_noise (GaussianNois (None, 7)                 0         \n",
      "_________________________________________________________________\n",
      "dense_2 (Dense)              (None, 16)                128       \n",
      "_________________________________________________________________\n",
      "dense_3 (Dense)              (None, 16)                272       \n",
      "=================================================================\n",
      "Total params: 791\n",
      "Trainable params: 791\n",
      "Non-trainable params: 0\n",
      "_________________________________________________________________\n"
     ]
    }
   ],
   "source": [
    "# We create the autoencoder with input_signal as the input and output being the final decoder layer\n",
    "autoencoder = Model(inputs=input_signal, outputs=decoded)  \n",
    "\n",
    "\n",
    "# We extract the encoder that takes the input_signal as the input and the output of the encoder is the encoded signal\n",
    "encoder = Model(inputs=input_signal, outputs=encoded)\n",
    "\n",
    "\n",
    "# To show the structure of the deep autoencodder (layers, trainable parameters,...)\n",
    "autoencoder.summary()"
   ]
  },
  {
   "cell_type": "code",
   "execution_count": 13,
   "metadata": {},
   "outputs": [],
   "source": [
    "# We compile the autoencoder model with Adam optimizer and categorical cross entropy as loss function\n",
    "\n",
    "# To change the learning rate of Adam optimizer and/or SGD, you can use the following commmands\n",
    "#adam=Adam(lr=0.001)\n",
    "#sgd=SGD(lr=0.02)\n",
    "\n",
    "autoencoder.compile(optimizer='adam', loss='categorical_crossentropy', metrics=['binary_accuracy',BER])  "
   ]
  },
  {
   "cell_type": "code",
   "execution_count": 14,
   "metadata": {},
   "outputs": [
    {
     "name": "stdout",
     "output_type": "stream",
     "text": [
      "Epoch 1/20\n",
      "500/500 [==============================] - 2s 3ms/step - loss: 1.8088 - binary_accuracy: 0.9469 - BER: 0.0531 - val_loss: 0.1331 - val_binary_accuracy: 1.0000 - val_BER: 0.0000e+00\n",
      "Epoch 2/20\n",
      "500/500 [==============================] - 1s 1ms/step - loss: 0.1557 - binary_accuracy: 0.9991 - BER: 9.0728e-04 - val_loss: 0.0163 - val_binary_accuracy: 1.0000 - val_BER: 0.0000e+00\n",
      "Epoch 3/20\n",
      "500/500 [==============================] - 1s 1ms/step - loss: 0.0477 - binary_accuracy: 0.9997 - BER: 2.9473e-04 - val_loss: 0.0045 - val_binary_accuracy: 1.0000 - val_BER: 0.0000e+00\n",
      "Epoch 4/20\n",
      "500/500 [==============================] - 1s 1ms/step - loss: 0.0242 - binary_accuracy: 0.9999 - BER: 1.2986e-04 - val_loss: 0.0018 - val_binary_accuracy: 1.0000 - val_BER: 0.0000e+00\n",
      "Epoch 5/20\n",
      "500/500 [==============================] - 1s 1ms/step - loss: 0.0154 - binary_accuracy: 0.9999 - BER: 1.1391e-04 - val_loss: 8.5178e-04 - val_binary_accuracy: 1.0000 - val_BER: 0.0000e+00\n",
      "Epoch 6/20\n",
      "500/500 [==============================] - 1s 1ms/step - loss: 0.0102 - binary_accuracy: 0.9999 - BER: 6.6861e-05 - val_loss: 4.2392e-04 - val_binary_accuracy: 1.0000 - val_BER: 0.0000e+00\n",
      "Epoch 7/20\n",
      "500/500 [==============================] - 1s 1ms/step - loss: 0.0088 - binary_accuracy: 0.9999 - BER: 1.3518e-04 - val_loss: 2.4446e-04 - val_binary_accuracy: 1.0000 - val_BER: 0.0000e+00\n",
      "Epoch 8/20\n",
      "500/500 [==============================] - 1s 1ms/step - loss: 0.0063 - binary_accuracy: 0.9999 - BER: 7.0193e-05 - val_loss: 1.7555e-04 - val_binary_accuracy: 1.0000 - val_BER: 0.0000e+00\n",
      "Epoch 9/20\n",
      "500/500 [==============================] - 1s 1ms/step - loss: 0.0059 - binary_accuracy: 0.9999 - BER: 9.6845e-05 - val_loss: 8.3110e-05 - val_binary_accuracy: 1.0000 - val_BER: 0.0000e+00\n",
      "Epoch 10/20\n",
      "500/500 [==============================] - 1s 1ms/step - loss: 0.0050 - binary_accuracy: 0.9999 - BER: 1.4601e-04 - val_loss: 5.9363e-05 - val_binary_accuracy: 1.0000 - val_BER: 0.0000e+00\n",
      "Epoch 11/20\n",
      "500/500 [==============================] - 1s 1ms/step - loss: 0.0041 - binary_accuracy: 0.9999 - BER: 5.6882e-05 - val_loss: 4.0650e-05 - val_binary_accuracy: 1.0000 - val_BER: 0.0000e+00\n",
      "Epoch 12/20\n",
      "500/500 [==============================] - 1s 1ms/step - loss: 0.0033 - binary_accuracy: 1.0000 - BER: 3.7362e-05 - val_loss: 2.6738e-05 - val_binary_accuracy: 1.0000 - val_BER: 0.0000e+00\n",
      "Epoch 13/20\n",
      "500/500 [==============================] - 1s 1ms/step - loss: 0.0035 - binary_accuracy: 0.9999 - BER: 5.0421e-05 - val_loss: 1.9291e-05 - val_binary_accuracy: 1.0000 - val_BER: 0.0000e+00\n",
      "Epoch 14/20\n",
      "500/500 [==============================] - 1s 1ms/step - loss: 0.0040 - binary_accuracy: 0.9999 - BER: 1.1345e-04 - val_loss: 1.3816e-05 - val_binary_accuracy: 1.0000 - val_BER: 0.0000e+00\n",
      "Epoch 15/20\n",
      "500/500 [==============================] - 1s 1ms/step - loss: 0.0022 - binary_accuracy: 1.0000 - BER: 4.8535e-05 - val_loss: 1.1576e-05 - val_binary_accuracy: 1.0000 - val_BER: 0.0000e+00\n",
      "Epoch 16/20\n",
      "500/500 [==============================] - 1s 1ms/step - loss: 0.0047 - binary_accuracy: 0.9998 - BER: 1.8167e-04 - val_loss: 7.3625e-06 - val_binary_accuracy: 1.0000 - val_BER: 0.0000e+00\n",
      "Epoch 17/20\n",
      "500/500 [==============================] - 1s 1ms/step - loss: 0.0039 - binary_accuracy: 0.9999 - BER: 1.4945e-04 - val_loss: 8.4541e-06 - val_binary_accuracy: 1.0000 - val_BER: 0.0000e+00\n",
      "Epoch 18/20\n",
      "500/500 [==============================] - 1s 1ms/step - loss: 0.0039 - binary_accuracy: 0.9999 - BER: 1.3967e-04 - val_loss: 7.3334e-06 - val_binary_accuracy: 1.0000 - val_BER: 0.0000e+00\n",
      "Epoch 19/20\n",
      "500/500 [==============================] - 1s 1ms/step - loss: 0.0027 - binary_accuracy: 0.9999 - BER: 5.1873e-05 - val_loss: 4.2569e-06 - val_binary_accuracy: 1.0000 - val_BER: 0.0000e+00\n",
      "Epoch 20/20\n",
      "500/500 [==============================] - 1s 1ms/step - loss: 0.0028 - binary_accuracy: 0.9999 - BER: 7.7146e-05 - val_loss: 3.5542e-06 - val_binary_accuracy: 1.0000 - val_BER: 0.0000e+00\n"
     ]
    }
   ],
   "source": [
    "# Training of the autoencoder with 200 epochs and batch size of 32 (default value) \n",
    "hist = autoencoder.fit(x_train, x_train, epochs=20, batch_size=32,validation_data=(x_test, x_test))\n",
    "\n",
    "\n",
    "\n",
    "# Predicting the test set using the encoder to view the encoded signal\n",
    "encoded_signal = encoder.predict(x_test) \n",
    "# Predicting the test set using the autoencoder to view (obtain) the encoded (reconstructed) signal\n",
    "decoded_signal = autoencoder.predict(x_test)"
   ]
  },
  {
   "cell_type": "code",
   "execution_count": 15,
   "metadata": {},
   "outputs": [
    {
     "data": {
      "text/plain": [
       "Text(0, 0.5, 'Q axis')"
      ]
     },
     "execution_count": 15,
     "metadata": {},
     "output_type": "execute_result"
    },
    {
     "data": {
      "image/png": "[encoded data removed]",
      "text/plain": [
       "<Figure size 432x288 with 1 Axes>"
      ]
     },
     "metadata": {
      "needs_background": "light"
     },
     "output_type": "display_data"
    }
   ],
   "source": [
    "# Plotting the constellation diagram\n",
    "encoded_planisphere = encoder.predict(eye_matrix) \n",
    "plt.title('Constellation')\n",
    "plt.xlim(-2, 2)\n",
    "plt.ylim(-2, 2)\n",
    "plt.plot(encoded_planisphere[:,0], encoded_planisphere[:,1], 'r.')\n",
    "plt.grid(True)\n",
    "plt.axis('equal')\n",
    "plt.xlabel('I axis')\n",
    "plt.ylabel('Q axis')"
   ]
  },
  {
   "cell_type": "code",
   "execution_count": 16,
   "metadata": {},
   "outputs": [
    {
     "data": {
      "text/plain": [
       "Text(0.5, 0, 'Epoch')"
      ]
     },
     "execution_count": 16,
     "metadata": {},
     "output_type": "execute_result"
    },
    {
     "data": {
      "image/png": "[encoded data removed]",
      "text/plain": [
       "<Figure size 432x288 with 1 Axes>"
      ]
     },
     "metadata": {
      "needs_background": "light"
     },
     "output_type": "display_data"
    }
   ],
   "source": [
    "# Plotting the model loss vs. epochs\n",
    "plt.figure()\n",
    "plt.plot(hist.history['loss'])\n",
    "plt.title('Model loss')\n",
    "plt.ylabel('Loss')\n",
    "plt.xlabel('Epoch')"
   ]
  },
  {
   "cell_type": "code",
   "execution_count": 17,
   "metadata": {},
   "outputs": [],
   "source": [
    "# making decoder from full autoencoder\n",
    "deco = autoencoder.layers[-2](encoded_input)\n",
    "deco = autoencoder.layers[-1](deco)\n",
    "decoder = Model(encoded_input, deco)"
   ]
  },
  {
   "cell_type": "code",
   "execution_count": 18,
   "metadata": {},
   "outputs": [
    {
     "name": "stdout",
     "output_type": "stream",
     "text": [
      "Eb/No: -2.0 BLER: 0.37707\n",
      "Eb/No: -1.0 BLER: 0.29562\n",
      "Eb/No: 0.0 BLER: 0.21975\n",
      "Eb/No: 1.0 BLER: 0.14893\n",
      "Eb/No: 2.0 BLER: 0.08987\n",
      "Eb/No: 3.0 BLER: 0.04913\n",
      "Eb/No: 4.0 BLER: 0.02254\n",
      "Eb/No: 5.0 BLER: 0.00851\n",
      "Eb/No: 6.0 BLER: 0.0028\n",
      "Eb/No: 7.0 BLER: 0.00069\n",
      "Eb/No: 8.0 BLER: 0.00012\n",
      "Eb/No: 9.0 BLER: 1e-05\n",
      "Eb/No: 10.0 BLER: 0.0\n"
     ]
    }
   ],
   "source": [
    "# Calculating BER from -2dB to 10dB Eb/No\n",
    "\n",
    "# Generating data of size N\n",
    "N=100000\n",
    "test_label = np.random.randint(M,size=N)\n",
    "\n",
    "# Creating one hot encoded vectors\n",
    "test_data=[]\n",
    "for i in test_label:\n",
    "    temp=np.zeros(M)\n",
    "    temp[i]=1\n",
    "    test_data.append(temp)\n",
    "# Checking data shape\n",
    "test_data=np.array(test_data)\n",
    "\n",
    "EbNodB_range = list(np.arange(-2.0,10+1,1))\n",
    "ber = [None]*len(EbNodB_range)\n",
    "for n_i in range(0,len(EbNodB_range)):\n",
    "    EbNo=10.0**(EbNodB_range[n_i]/10.0)\n",
    "    noise_std = np.sqrt(1/(2*R*EbNo))\n",
    "    noise_mean = 0\n",
    "    no_errors = 0\n",
    "    nn = N\n",
    "    noise = noise_std*np.random.randn(nn,n)\n",
    "    encoded_signal = encoder.predict(test_data) \n",
    "    final_signal = encoded_signal+noise\n",
    "    pred_final_signal =  decoder.predict(final_signal)\n",
    "    pred_output = np.argmax(pred_final_signal,axis=1)\n",
    "    no_errors = (pred_output != test_label)\n",
    "    no_errors =  no_errors.astype(int).sum()\n",
    "    ber[n_i] = no_errors / nn \n",
    "    print ('Eb/No:',EbNodB_range[n_i],'BLER:',ber[n_i])"
   ]
  },
  {
   "cell_type": "code",
   "execution_count": 19,
   "metadata": {},
   "outputs": [
    {
     "data": {
      "image/png": "[encoded data removed]",
      "text/plain": [
       "<Figure size 432x288 with 1 Axes>"
      ]
     },
     "metadata": {
      "needs_background": "light"
     },
     "output_type": "display_data"
    }
   ],
   "source": [
    "# ploting BER curve\n",
    "import matplotlib.pyplot as plt\n",
    "plt.figure()\n",
    "plt.plot(EbNodB_range, ber, 'bo',label='Autoencoder(2,4)')\n",
    "plt.yscale('log')\n",
    "plt.xlabel('Eb/No [dB]')\n",
    "plt.ylabel('Block error rate')\n",
    "plt.grid(True)\n",
    "plt.legend(loc='upper right',ncol = 1)\n",
    "plt.ylim(10**-5,1)\n",
    "plt.xlim(-2,10)\n",
    "plt.show()"
   ]
  },
  {
   "cell_type": "code",
   "execution_count": null,
   "metadata": {},
   "outputs": [],
   "source": []
  },
  {
   "cell_type": "code",
   "execution_count": null,
   "metadata": {},
   "outputs": [],
   "source": []
  }
 ],
 "metadata": {
  "kernelspec": {
   "display_name": "Python 3",
   "language": "python",
   "name": "python3"
  },
  "language_info": {
   "codemirror_mode": {
    "name": "ipython",
    "version": 3
   },
   "file_extension": ".py",
   "mimetype": "text/x-python",
   "name": "python",
   "nbconvert_exporter": "python",
   "pygments_lexer": "ipython3",
   "version": "3.8.2"
  }
 },
 "nbformat": 4,
 "nbformat_minor": 5
}
